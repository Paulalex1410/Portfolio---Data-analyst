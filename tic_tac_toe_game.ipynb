{
  "cells": [
    {
      "cell_type": "code",
      "execution_count": 1,
      "metadata": {
        "id": "IOpyDX9HbmLK",
        "tags": []
      },
      "outputs": [],
      "source": [
        "gameboard=[[\"1\",\"2\",\"3\"],[\"4\",\"X\",\"6\"],[\"7\",\"8\",\"9\"]]\n",
        "\n",
        "def print_gameboard(gameboard):# print the board 3x3\n",
        "  tier_size=len(gameboard[0])\n",
        "  total_tiers=len(gameboard)\n",
        "\n",
        "  for i in range(total_tiers):\n",
        "    print('+-------+-------+--------+')\n",
        "\n",
        "    for j in range(tier_size):\n",
        "      print(\"|   \",end=\"\")\n",
        "      print(gameboard[i][j],end=\"   \")\n",
        "    print(\" | \")\n",
        "  print('+-------+-------+--------+')"
      ]
    },
    {
      "cell_type": "code",
      "source": [
        "print_gameboard(gameboard)"
      ],
      "metadata": {
        "colab": {
          "base_uri": "https://localhost:8080/"
        },
        "id": "DDjjYIxFzKvW",
        "outputId": "18503354-01de-4e97-cd84-4ea7e3cf0896"
      },
      "execution_count": 2,
      "outputs": [
        {
          "output_type": "stream",
          "name": "stdout",
          "text": [
            "+-------+-------+--------+\n",
            "|   1   |   2   |   3    | \n",
            "+-------+-------+--------+\n",
            "|   4   |   X   |   6    | \n",
            "+-------+-------+--------+\n",
            "|   7   |   8   |   9    | \n",
            "+-------+-------+--------+\n"
          ]
        }
      ]
    },
    {
      "cell_type": "code",
      "execution_count": 37,
      "metadata": {
        "id": "OgCUXk4xf_MB",
        "tags": []
      },
      "outputs": [],
      "source": [
        "def make_move(gameboard,name,symbol):# check the option on the player\n",
        "  valid_move=False\n",
        "\n",
        "  while not valid_move:\n",
        "    print(str(name)+\"'s turn. Please select one option.\")\n",
        "    player_row=int(input())\n",
        "\n",
        "    if gameboard[(player_row-1)//3][(player_row-1)%3]!=\"X\" and gameboard[(player_row-1)//3][(player_row-1)%3]!=\"O\":\n",
        "      gameboard[(player_row-1)//3][(player_row-1)%3]=symbol\n",
        "      valid_move=True\n",
        "\n",
        "    if not valid_move:\n",
        "      print(\"that move is invalid ,that space was taken, please try again\")\n"
      ]
    },
    {
      "cell_type": "code",
      "execution_count": 9,
      "metadata": {
        "id": "tFOnzNCrHiUK",
        "tags": []
      },
      "outputs": [],
      "source": [
        "def check_winner(gameboard):# decide who did win the game\n",
        "  for i in range(3):\n",
        "\n",
        "    if gameboard[i][0]==gameboard[i][1] and gameboard[i][1]==gameboard[i][2]:\n",
        "      return \"winner\"\n",
        "\n",
        "    elif gameboard[0][i]==gameboard[1][i] and gameboard[1][i]==gameboard[2][i]:\n",
        "      return \"winner\"\n",
        "\n",
        "  if gameboard[0][0]==gameboard[1][1] and gameboard[1][1]==gameboard[2][2]:\n",
        "    return 'winner'\n",
        "  elif gameboard[2][0]==gameboard[1][1] and gameboard[1][1]==gameboard[0][2]:\n",
        "    return \"winner\"\n"
      ]
    },
    {
      "cell_type": "code",
      "execution_count": 29,
      "metadata": {
        "id": "sYf1lSvAGZp3",
        "tags": []
      },
      "outputs": [],
      "source": [
        "def move_compu(gameboard,symbol):# random selection for the computer\n",
        "  from random import randrange\n",
        "  valid_move=False\n",
        "\n",
        "  while not valid_move:\n",
        "     player_r=randrange(1,4,1)\n",
        "     player_column=randrange(1,4,1)\n",
        "\n",
        "     if gameboard[player_r-1][player_column-1]!=\"X\" and gameboard[player_r-1][player_column-1]!=\"O\":\n",
        "        gameboard[player_r-1][player_column-1]=symbol\n",
        "        valid_move=True\n",
        "\n",
        "\n"
      ]
    },
    {
      "cell_type": "code",
      "execution_count": 39,
      "metadata": {
        "colab": {
          "base_uri": "https://localhost:8080/"
        },
        "id": "OThN7LeUytfE",
        "outputId": "bafc028e-9cbe-4362-9f9b-afa3b34faa6c",
        "tags": []
      },
      "outputs": [
        {
          "output_type": "stream",
          "name": "stdout",
          "text": [
            "ready for the game of tic tac toe?\n",
            "please input the name for player 1: a\n",
            "+-------+-------+--------+\n",
            "|   1   |   2   |   3    | \n",
            "+-------+-------+--------+\n",
            "|   4   |   X   |   6    | \n",
            "+-------+-------+--------+\n",
            "|   7   |   8   |   9    | \n",
            "+-------+-------+--------+\n",
            "-o--o--o--o--o--o--o--o--o--o--o--o--o--o--o--o--o--o--o--o--o--o--o--o--o--o--o--o--o--o-\n",
            "                                                                                          \n",
            "a's turn. Please select one option.\n",
            "1\n",
            "+-------+-------+--------+\n",
            "|   O   |   2   |   3    | \n",
            "+-------+-------+--------+\n",
            "|   4   |   X   |   6    | \n",
            "+-------+-------+--------+\n",
            "|   7   |   8   |   9    | \n",
            "+-------+-------+--------+\n",
            "-o--o--o--o--o--o--o--o--o--o--o--o--o--o--o--o--o--o--o--o--o--o--o--o--o--o--o--o--o--o-\n",
            "                                                                                          \n",
            "compu 's turn\n",
            "+-------+-------+--------+\n",
            "|   O   |   2   |   3    | \n",
            "+-------+-------+--------+\n",
            "|   4   |   X   |   6    | \n",
            "+-------+-------+--------+\n",
            "|   7   |   X   |   9    | \n",
            "+-------+-------+--------+\n",
            "-o--o--o--o--o--o--o--o--o--o--o--o--o--o--o--o--o--o--o--o--o--o--o--o--o--o--o--o--o--o-\n",
            "                                                                                          \n",
            "a's turn. Please select one option.\n",
            "9\n",
            "+-------+-------+--------+\n",
            "|   O   |   2   |   3    | \n",
            "+-------+-------+--------+\n",
            "|   4   |   X   |   6    | \n",
            "+-------+-------+--------+\n",
            "|   7   |   X   |   O    | \n",
            "+-------+-------+--------+\n",
            "-o--o--o--o--o--o--o--o--o--o--o--o--o--o--o--o--o--o--o--o--o--o--o--o--o--o--o--o--o--o-\n",
            "                                                                                          \n",
            "compu 's turn\n",
            "+-------+-------+--------+\n",
            "|   O   |   2   |   3    | \n",
            "+-------+-------+--------+\n",
            "|   4   |   X   |   6    | \n",
            "+-------+-------+--------+\n",
            "|   X   |   X   |   O    | \n",
            "+-------+-------+--------+\n",
            "-o--o--o--o--o--o--o--o--o--o--o--o--o--o--o--o--o--o--o--o--o--o--o--o--o--o--o--o--o--o-\n",
            "                                                                                          \n",
            "a's turn. Please select one option.\n",
            "4\n",
            "+-------+-------+--------+\n",
            "|   O   |   2   |   3    | \n",
            "+-------+-------+--------+\n",
            "|   O   |   X   |   6    | \n",
            "+-------+-------+--------+\n",
            "|   X   |   X   |   O    | \n",
            "+-------+-------+--------+\n",
            "-o--o--o--o--o--o--o--o--o--o--o--o--o--o--o--o--o--o--o--o--o--o--o--o--o--o--o--o--o--o-\n",
            "                                                                                          \n",
            "compu 's turn\n",
            "+-------+-------+--------+\n",
            "|   O   |   X   |   3    | \n",
            "+-------+-------+--------+\n",
            "|   O   |   X   |   6    | \n",
            "+-------+-------+--------+\n",
            "|   X   |   X   |   O    | \n",
            "+-------+-------+--------+\n",
            "the winner is: compu\n"
          ]
        }
      ],
      "source": [
        "#start game\n",
        "if __name__=='__main__':\n",
        "  gameboard=[[\"1\",\"2\",\"3\"],[\"4\",\"X\",\"6\"],[\"7\",\"8\",\"9\"]]\n",
        "  print(\"ready for the game of tic tac toe?\")\n",
        "  playeronename=str(input(\"please input the name for player 1: \"))\n",
        "  playeronesymbol=\"O\"\n",
        "\n",
        "  playertwoname=\"compu\"\n",
        "  playertwosymbol=\"X\"\n",
        "\n",
        "  gamecount=1\n",
        "  winner=''\n",
        "  print_gameboard(gameboard)\n",
        "\n",
        "  while gamecount<10:\n",
        "\n",
        "    #asking the player for their first move\n",
        "    print(\"-o-\"*30)\n",
        "    print(\"   \"*30)\n",
        "\n",
        "    make_move(gameboard,playeronename,playeronesymbol)\n",
        "    print_gameboard(gameboard)\n",
        "    winner=check_winner(gameboard)\n",
        "    gamecount+=1\n",
        "\n",
        "    if winner == \"winner\":\n",
        "      print('the winner is: '+playeronename)\n",
        "      break\n",
        "\n",
        "    #asking the computer for it move\n",
        "    print(\"-o-\"*30)\n",
        "    print(\"   \"*30)\n",
        "    print(playertwoname,\"'s turn\")\n",
        "    move_compu(gameboard,playertwosymbol)\n",
        "    print_gameboard(gameboard)\n",
        "    winner=check_winner(gameboard)\n",
        "    gamecount+=1\n",
        "\n",
        "    if winner == \"winner\":\n",
        "       print('the winner is: '+playertwoname)\n",
        "       break\n",
        "\n",
        "    if gamecount==9:\n",
        "      break\n",
        "\n",
        "\n",
        "  if gamecount==9 and winner!='winner':\n",
        "    print('this is a tie')\n",
        "\n"
      ]
    },
    {
      "cell_type": "code",
      "execution_count": null,
      "metadata": {
        "id": "YK99x3egaOMi"
      },
      "outputs": [],
      "source": []
    }
  ],
  "metadata": {
    "colab": {
      "provenance": []
    },
    "kernelspec": {
      "display_name": "Python 3 (ipykernel)",
      "language": "python",
      "name": "python3"
    },
    "language_info": {
      "codemirror_mode": {
        "name": "ipython",
        "version": 3
      },
      "file_extension": ".py",
      "mimetype": "text/x-python",
      "name": "python",
      "nbconvert_exporter": "python",
      "pygments_lexer": "ipython3",
      "version": "3.8.16"
    }
  },
  "nbformat": 4,
  "nbformat_minor": 0
}